{
 "cells": [
  {
   "cell_type": "code",
   "execution_count": 1,
   "id": "811758d0",
   "metadata": {},
   "outputs": [],
   "source": [
    "import pandas as pd\n",
    "import matplotlib.pyplot as plt\n",
    "import seaborn as sns\n",
    "pd.options.mode.chained_assignment = None  # default='warn'\n"
   ]
  },
  {
   "cell_type": "markdown",
   "id": "c49e0b28",
   "metadata": {},
   "source": [
    "## Importation de données"
   ]
  },
  {
   "cell_type": "code",
   "execution_count": 2,
   "id": "187fa7bc",
   "metadata": {},
   "outputs": [],
   "source": [
    "df = pd.read_csv(\"data/SuperStoreRawData.csv\")"
   ]
  },
  {
   "cell_type": "markdown",
   "id": "722cf7f8",
   "metadata": {},
   "source": [
    "## Analyse sur l'ensemble de données "
   ]
  },
  {
   "cell_type": "code",
   "execution_count": 3,
   "id": "4e2eb064",
   "metadata": {},
   "outputs": [
    {
     "data": {
      "text/html": [
       "<div>\n",
       "<style scoped>\n",
       "    .dataframe tbody tr th:only-of-type {\n",
       "        vertical-align: middle;\n",
       "    }\n",
       "\n",
       "    .dataframe tbody tr th {\n",
       "        vertical-align: top;\n",
       "    }\n",
       "\n",
       "    .dataframe thead th {\n",
       "        text-align: right;\n",
       "    }\n",
       "</style>\n",
       "<table border=\"1\" class=\"dataframe\">\n",
       "  <thead>\n",
       "    <tr style=\"text-align: right;\">\n",
       "      <th></th>\n",
       "      <th>order_id</th>\n",
       "      <th>order_date</th>\n",
       "      <th>ship_date</th>\n",
       "      <th>ship_mode</th>\n",
       "      <th>customer_id</th>\n",
       "      <th>sales_rep</th>\n",
       "      <th>location_id</th>\n",
       "      <th>product_id</th>\n",
       "      <th>sales</th>\n",
       "      <th>quantity</th>\n",
       "      <th>...</th>\n",
       "      <th>segment</th>\n",
       "      <th>product_name</th>\n",
       "      <th>category</th>\n",
       "      <th>sub_category</th>\n",
       "      <th>sales_team</th>\n",
       "      <th>sales_team_manager</th>\n",
       "      <th>city</th>\n",
       "      <th>state</th>\n",
       "      <th>postal_code</th>\n",
       "      <th>region</th>\n",
       "    </tr>\n",
       "  </thead>\n",
       "  <tbody>\n",
       "    <tr>\n",
       "      <th>0</th>\n",
       "      <td>CA-2016-152156</td>\n",
       "      <td>2016-11-08</td>\n",
       "      <td>2016-11-11</td>\n",
       "      <td>Second Class</td>\n",
       "      <td>CG-12520</td>\n",
       "      <td>Organic</td>\n",
       "      <td>42420,Henderson</td>\n",
       "      <td>FUR-BO-10001798</td>\n",
       "      <td>261.96</td>\n",
       "      <td>2.0</td>\n",
       "      <td>...</td>\n",
       "      <td>Consumer</td>\n",
       "      <td>Bush Somerset Collection Bookcase</td>\n",
       "      <td>Furniture</td>\n",
       "      <td>Bookcases</td>\n",
       "      <td>Organic</td>\n",
       "      <td>Organic</td>\n",
       "      <td>Henderson</td>\n",
       "      <td>Kentucky</td>\n",
       "      <td>42420.0</td>\n",
       "      <td>South</td>\n",
       "    </tr>\n",
       "    <tr>\n",
       "      <th>1</th>\n",
       "      <td>CA-2016-152156</td>\n",
       "      <td>2016-11-08</td>\n",
       "      <td>2016-11-11</td>\n",
       "      <td>Second Class</td>\n",
       "      <td>CG-12520</td>\n",
       "      <td>Organic</td>\n",
       "      <td>42420,Henderson</td>\n",
       "      <td>FUR-CH-10000454</td>\n",
       "      <td>731.94</td>\n",
       "      <td>3.0</td>\n",
       "      <td>...</td>\n",
       "      <td>Consumer</td>\n",
       "      <td>Hon Deluxe Fabric Upholstered Stacking Chairs,...</td>\n",
       "      <td>Furniture</td>\n",
       "      <td>Chairs</td>\n",
       "      <td>Organic</td>\n",
       "      <td>Organic</td>\n",
       "      <td>Henderson</td>\n",
       "      <td>Kentucky</td>\n",
       "      <td>42420.0</td>\n",
       "      <td>South</td>\n",
       "    </tr>\n",
       "    <tr>\n",
       "      <th>2</th>\n",
       "      <td>CA-2016-138688</td>\n",
       "      <td>2016-06-12</td>\n",
       "      <td>2016-06-16</td>\n",
       "      <td>Second Class</td>\n",
       "      <td>DV-13045</td>\n",
       "      <td>Steve Pepple</td>\n",
       "      <td>90036,Los Angeles</td>\n",
       "      <td>OFF-LA-10000240</td>\n",
       "      <td>14.62</td>\n",
       "      <td>2.0</td>\n",
       "      <td>...</td>\n",
       "      <td>Corporate</td>\n",
       "      <td>Self-Adhesive Address Labels for Typewriters b...</td>\n",
       "      <td>Office Supplies</td>\n",
       "      <td>Labels</td>\n",
       "      <td>Bravo</td>\n",
       "      <td>Tracy Banks</td>\n",
       "      <td>Los Angeles</td>\n",
       "      <td>California</td>\n",
       "      <td>90036.0</td>\n",
       "      <td>West</td>\n",
       "    </tr>\n",
       "    <tr>\n",
       "      <th>3</th>\n",
       "      <td>US-2015-108966</td>\n",
       "      <td>2015-10-11</td>\n",
       "      <td>2015-10-18</td>\n",
       "      <td>Standard Class</td>\n",
       "      <td>SO-20335</td>\n",
       "      <td>Organic</td>\n",
       "      <td>33311,Fort Lauderdale</td>\n",
       "      <td>FUR-TA-10000577</td>\n",
       "      <td>957.58</td>\n",
       "      <td>5.0</td>\n",
       "      <td>...</td>\n",
       "      <td>Consumer</td>\n",
       "      <td>Bretford CR4500 Series Slim Rectangular Table</td>\n",
       "      <td>Furniture</td>\n",
       "      <td>Tables</td>\n",
       "      <td>Organic</td>\n",
       "      <td>Organic</td>\n",
       "      <td>Fort Lauderdale</td>\n",
       "      <td>Florida</td>\n",
       "      <td>33311.0</td>\n",
       "      <td>South</td>\n",
       "    </tr>\n",
       "    <tr>\n",
       "      <th>4</th>\n",
       "      <td>US-2015-108966</td>\n",
       "      <td>2015-10-11</td>\n",
       "      <td>2015-10-18</td>\n",
       "      <td>Standard Class</td>\n",
       "      <td>SO-20335</td>\n",
       "      <td>Organic</td>\n",
       "      <td>33311,Fort Lauderdale</td>\n",
       "      <td>OFF-ST-10000760</td>\n",
       "      <td>22.37</td>\n",
       "      <td>2.0</td>\n",
       "      <td>...</td>\n",
       "      <td>Consumer</td>\n",
       "      <td>Eldon Fold 'N Roll Cart System</td>\n",
       "      <td>Office Supplies</td>\n",
       "      <td>Storage</td>\n",
       "      <td>Organic</td>\n",
       "      <td>Organic</td>\n",
       "      <td>Fort Lauderdale</td>\n",
       "      <td>Florida</td>\n",
       "      <td>33311.0</td>\n",
       "      <td>South</td>\n",
       "    </tr>\n",
       "  </tbody>\n",
       "</table>\n",
       "<p>5 rows × 23 columns</p>\n",
       "</div>"
      ],
      "text/plain": [
       "         order_id  order_date   ship_date       ship_mode customer_id  \\\n",
       "0  CA-2016-152156  2016-11-08  2016-11-11    Second Class    CG-12520   \n",
       "1  CA-2016-152156  2016-11-08  2016-11-11    Second Class    CG-12520   \n",
       "2  CA-2016-138688  2016-06-12  2016-06-16    Second Class    DV-13045   \n",
       "3  US-2015-108966  2015-10-11  2015-10-18  Standard Class    SO-20335   \n",
       "4  US-2015-108966  2015-10-11  2015-10-18  Standard Class    SO-20335   \n",
       "\n",
       "      sales_rep            location_id       product_id   sales  quantity  \\\n",
       "0       Organic        42420,Henderson  FUR-BO-10001798  261.96       2.0   \n",
       "1       Organic        42420,Henderson  FUR-CH-10000454  731.94       3.0   \n",
       "2  Steve Pepple      90036,Los Angeles  OFF-LA-10000240   14.62       2.0   \n",
       "3       Organic  33311,Fort Lauderdale  FUR-TA-10000577  957.58       5.0   \n",
       "4       Organic  33311,Fort Lauderdale  OFF-ST-10000760   22.37       2.0   \n",
       "\n",
       "   ...    segment                                       product_name  \\\n",
       "0  ...   Consumer                  Bush Somerset Collection Bookcase   \n",
       "1  ...   Consumer  Hon Deluxe Fabric Upholstered Stacking Chairs,...   \n",
       "2  ...  Corporate  Self-Adhesive Address Labels for Typewriters b...   \n",
       "3  ...   Consumer      Bretford CR4500 Series Slim Rectangular Table   \n",
       "4  ...   Consumer                     Eldon Fold 'N Roll Cart System   \n",
       "\n",
       "          category sub_category sales_team sales_team_manager  \\\n",
       "0        Furniture    Bookcases    Organic            Organic   \n",
       "1        Furniture       Chairs    Organic            Organic   \n",
       "2  Office Supplies       Labels      Bravo        Tracy Banks   \n",
       "3        Furniture       Tables    Organic            Organic   \n",
       "4  Office Supplies      Storage    Organic            Organic   \n",
       "\n",
       "              city       state postal_code region  \n",
       "0        Henderson    Kentucky     42420.0  South  \n",
       "1        Henderson    Kentucky     42420.0  South  \n",
       "2      Los Angeles  California     90036.0   West  \n",
       "3  Fort Lauderdale     Florida     33311.0  South  \n",
       "4  Fort Lauderdale     Florida     33311.0  South  \n",
       "\n",
       "[5 rows x 23 columns]"
      ]
     },
     "execution_count": 3,
     "metadata": {},
     "output_type": "execute_result"
    }
   ],
   "source": [
    "df.head()"
   ]
  },
  {
   "cell_type": "code",
   "execution_count": 4,
   "id": "882a19d2-2f5f-408b-a436-e16602cd700b",
   "metadata": {},
   "outputs": [
    {
     "data": {
      "text/html": [
       "<div>\n",
       "<style scoped>\n",
       "    .dataframe tbody tr th:only-of-type {\n",
       "        vertical-align: middle;\n",
       "    }\n",
       "\n",
       "    .dataframe tbody tr th {\n",
       "        vertical-align: top;\n",
       "    }\n",
       "\n",
       "    .dataframe thead th {\n",
       "        text-align: right;\n",
       "    }\n",
       "</style>\n",
       "<table border=\"1\" class=\"dataframe\">\n",
       "  <thead>\n",
       "    <tr style=\"text-align: right;\">\n",
       "      <th></th>\n",
       "      <th>sales</th>\n",
       "      <th>quantity</th>\n",
       "      <th>discount</th>\n",
       "      <th>profit</th>\n",
       "      <th>postal_code</th>\n",
       "    </tr>\n",
       "  </thead>\n",
       "  <tbody>\n",
       "    <tr>\n",
       "      <th>count</th>\n",
       "      <td>9989.000000</td>\n",
       "      <td>9989.000000</td>\n",
       "      <td>9989.000000</td>\n",
       "      <td>9989.000000</td>\n",
       "      <td>9989.000000</td>\n",
       "    </tr>\n",
       "    <tr>\n",
       "      <th>mean</th>\n",
       "      <td>232.120643</td>\n",
       "      <td>3.783762</td>\n",
       "      <td>0.156111</td>\n",
       "      <td>28.687980</td>\n",
       "      <td>55207.100310</td>\n",
       "    </tr>\n",
       "    <tr>\n",
       "      <th>std</th>\n",
       "      <td>641.853621</td>\n",
       "      <td>2.230934</td>\n",
       "      <td>0.206397</td>\n",
       "      <td>234.315422</td>\n",
       "      <td>32066.381091</td>\n",
       "    </tr>\n",
       "    <tr>\n",
       "      <th>min</th>\n",
       "      <td>0.440000</td>\n",
       "      <td>-7.000000</td>\n",
       "      <td>0.000000</td>\n",
       "      <td>-6599.980000</td>\n",
       "      <td>1040.000000</td>\n",
       "    </tr>\n",
       "    <tr>\n",
       "      <th>25%</th>\n",
       "      <td>17.340000</td>\n",
       "      <td>2.000000</td>\n",
       "      <td>0.000000</td>\n",
       "      <td>1.730000</td>\n",
       "      <td>23223.000000</td>\n",
       "    </tr>\n",
       "    <tr>\n",
       "      <th>50%</th>\n",
       "      <td>54.790000</td>\n",
       "      <td>3.000000</td>\n",
       "      <td>0.200000</td>\n",
       "      <td>8.670000</td>\n",
       "      <td>57103.000000</td>\n",
       "    </tr>\n",
       "    <tr>\n",
       "      <th>75%</th>\n",
       "      <td>209.980000</td>\n",
       "      <td>5.000000</td>\n",
       "      <td>0.200000</td>\n",
       "      <td>29.360000</td>\n",
       "      <td>90008.000000</td>\n",
       "    </tr>\n",
       "    <tr>\n",
       "      <th>max</th>\n",
       "      <td>22638.480000</td>\n",
       "      <td>14.000000</td>\n",
       "      <td>0.800000</td>\n",
       "      <td>8399.980000</td>\n",
       "      <td>99301.000000</td>\n",
       "    </tr>\n",
       "  </tbody>\n",
       "</table>\n",
       "</div>"
      ],
      "text/plain": [
       "              sales     quantity     discount       profit   postal_code\n",
       "count   9989.000000  9989.000000  9989.000000  9989.000000   9989.000000\n",
       "mean     232.120643     3.783762     0.156111    28.687980  55207.100310\n",
       "std      641.853621     2.230934     0.206397   234.315422  32066.381091\n",
       "min        0.440000    -7.000000     0.000000 -6599.980000   1040.000000\n",
       "25%       17.340000     2.000000     0.000000     1.730000  23223.000000\n",
       "50%       54.790000     3.000000     0.200000     8.670000  57103.000000\n",
       "75%      209.980000     5.000000     0.200000    29.360000  90008.000000\n",
       "max    22638.480000    14.000000     0.800000  8399.980000  99301.000000"
      ]
     },
     "execution_count": 4,
     "metadata": {},
     "output_type": "execute_result"
    }
   ],
   "source": [
    "df.describe()"
   ]
  },
  {
   "cell_type": "code",
   "execution_count": 5,
   "id": "9d2551fd",
   "metadata": {},
   "outputs": [
    {
     "data": {
      "text/plain": [
       "(9999, 23)"
      ]
     },
     "execution_count": 5,
     "metadata": {},
     "output_type": "execute_result"
    }
   ],
   "source": [
    "# Voir le nombre total de ligne\n",
    "df.shape"
   ]
  },
  {
   "cell_type": "code",
   "execution_count": 6,
   "id": "4aa91b10",
   "metadata": {},
   "outputs": [
    {
     "name": "stdout",
     "output_type": "stream",
     "text": [
      "<class 'pandas.core.frame.DataFrame'>\n",
      "RangeIndex: 9999 entries, 0 to 9998\n",
      "Data columns (total 23 columns):\n",
      " #   Column              Non-Null Count  Dtype  \n",
      "---  ------              --------------  -----  \n",
      " 0   order_id            9989 non-null   object \n",
      " 1   order_date          9989 non-null   object \n",
      " 2   ship_date           9989 non-null   object \n",
      " 3   ship_mode           9989 non-null   object \n",
      " 4   customer_id         9989 non-null   object \n",
      " 5   sales_rep           9989 non-null   object \n",
      " 6   location_id         9989 non-null   object \n",
      " 7   product_id          9989 non-null   object \n",
      " 8   sales               9989 non-null   float64\n",
      " 9   quantity            9989 non-null   float64\n",
      " 10  discount            9989 non-null   float64\n",
      " 11  profit              9989 non-null   float64\n",
      " 12  customer_name       9989 non-null   object \n",
      " 13  segment             9989 non-null   object \n",
      " 14  product_name        9989 non-null   object \n",
      " 15  category            9989 non-null   object \n",
      " 16  sub_category        9989 non-null   object \n",
      " 17  sales_team          9989 non-null   object \n",
      " 18  sales_team_manager  9989 non-null   object \n",
      " 19  city                9989 non-null   object \n",
      " 20  state               9989 non-null   object \n",
      " 21  postal_code         9989 non-null   float64\n",
      " 22  region              9989 non-null   object \n",
      "dtypes: float64(5), object(18)\n",
      "memory usage: 1.8+ MB\n"
     ]
    }
   ],
   "source": [
    "# Identification des valeurs manquantes 2\n",
    "df.info()"
   ]
  },
  {
   "cell_type": "code",
   "execution_count": 7,
   "id": "866c5202",
   "metadata": {},
   "outputs": [
    {
     "data": {
      "text/html": [
       "<div>\n",
       "<style scoped>\n",
       "    .dataframe tbody tr th:only-of-type {\n",
       "        vertical-align: middle;\n",
       "    }\n",
       "\n",
       "    .dataframe tbody tr th {\n",
       "        vertical-align: top;\n",
       "    }\n",
       "\n",
       "    .dataframe thead th {\n",
       "        text-align: right;\n",
       "    }\n",
       "</style>\n",
       "<table border=\"1\" class=\"dataframe\">\n",
       "  <thead>\n",
       "    <tr style=\"text-align: right;\">\n",
       "      <th></th>\n",
       "      <th>order_id</th>\n",
       "      <th>order_date</th>\n",
       "      <th>ship_date</th>\n",
       "      <th>ship_mode</th>\n",
       "      <th>customer_id</th>\n",
       "      <th>sales_rep</th>\n",
       "      <th>location_id</th>\n",
       "      <th>product_id</th>\n",
       "      <th>sales</th>\n",
       "      <th>quantity</th>\n",
       "      <th>...</th>\n",
       "      <th>segment</th>\n",
       "      <th>product_name</th>\n",
       "      <th>category</th>\n",
       "      <th>sub_category</th>\n",
       "      <th>sales_team</th>\n",
       "      <th>sales_team_manager</th>\n",
       "      <th>city</th>\n",
       "      <th>state</th>\n",
       "      <th>postal_code</th>\n",
       "      <th>region</th>\n",
       "    </tr>\n",
       "  </thead>\n",
       "  <tbody>\n",
       "    <tr>\n",
       "      <th>147</th>\n",
       "      <td>NaN</td>\n",
       "      <td>NaN</td>\n",
       "      <td>NaN</td>\n",
       "      <td>NaN</td>\n",
       "      <td>NaN</td>\n",
       "      <td>NaN</td>\n",
       "      <td>NaN</td>\n",
       "      <td>NaN</td>\n",
       "      <td>NaN</td>\n",
       "      <td>NaN</td>\n",
       "      <td>...</td>\n",
       "      <td>NaN</td>\n",
       "      <td>NaN</td>\n",
       "      <td>NaN</td>\n",
       "      <td>NaN</td>\n",
       "      <td>NaN</td>\n",
       "      <td>NaN</td>\n",
       "      <td>NaN</td>\n",
       "      <td>NaN</td>\n",
       "      <td>NaN</td>\n",
       "      <td>NaN</td>\n",
       "    </tr>\n",
       "    <tr>\n",
       "      <th>224</th>\n",
       "      <td>NaN</td>\n",
       "      <td>NaN</td>\n",
       "      <td>NaN</td>\n",
       "      <td>NaN</td>\n",
       "      <td>NaN</td>\n",
       "      <td>NaN</td>\n",
       "      <td>NaN</td>\n",
       "      <td>NaN</td>\n",
       "      <td>NaN</td>\n",
       "      <td>NaN</td>\n",
       "      <td>...</td>\n",
       "      <td>NaN</td>\n",
       "      <td>NaN</td>\n",
       "      <td>NaN</td>\n",
       "      <td>NaN</td>\n",
       "      <td>NaN</td>\n",
       "      <td>NaN</td>\n",
       "      <td>NaN</td>\n",
       "      <td>NaN</td>\n",
       "      <td>NaN</td>\n",
       "      <td>NaN</td>\n",
       "    </tr>\n",
       "    <tr>\n",
       "      <th>1185</th>\n",
       "      <td>NaN</td>\n",
       "      <td>NaN</td>\n",
       "      <td>NaN</td>\n",
       "      <td>NaN</td>\n",
       "      <td>NaN</td>\n",
       "      <td>NaN</td>\n",
       "      <td>NaN</td>\n",
       "      <td>NaN</td>\n",
       "      <td>NaN</td>\n",
       "      <td>NaN</td>\n",
       "      <td>...</td>\n",
       "      <td>NaN</td>\n",
       "      <td>NaN</td>\n",
       "      <td>NaN</td>\n",
       "      <td>NaN</td>\n",
       "      <td>NaN</td>\n",
       "      <td>NaN</td>\n",
       "      <td>NaN</td>\n",
       "      <td>NaN</td>\n",
       "      <td>NaN</td>\n",
       "      <td>NaN</td>\n",
       "    </tr>\n",
       "    <tr>\n",
       "      <th>3973</th>\n",
       "      <td>NaN</td>\n",
       "      <td>NaN</td>\n",
       "      <td>NaN</td>\n",
       "      <td>NaN</td>\n",
       "      <td>NaN</td>\n",
       "      <td>NaN</td>\n",
       "      <td>NaN</td>\n",
       "      <td>NaN</td>\n",
       "      <td>NaN</td>\n",
       "      <td>NaN</td>\n",
       "      <td>...</td>\n",
       "      <td>NaN</td>\n",
       "      <td>NaN</td>\n",
       "      <td>NaN</td>\n",
       "      <td>NaN</td>\n",
       "      <td>NaN</td>\n",
       "      <td>NaN</td>\n",
       "      <td>NaN</td>\n",
       "      <td>NaN</td>\n",
       "      <td>NaN</td>\n",
       "      <td>NaN</td>\n",
       "    </tr>\n",
       "    <tr>\n",
       "      <th>5321</th>\n",
       "      <td>NaN</td>\n",
       "      <td>NaN</td>\n",
       "      <td>NaN</td>\n",
       "      <td>NaN</td>\n",
       "      <td>NaN</td>\n",
       "      <td>NaN</td>\n",
       "      <td>NaN</td>\n",
       "      <td>NaN</td>\n",
       "      <td>NaN</td>\n",
       "      <td>NaN</td>\n",
       "      <td>...</td>\n",
       "      <td>NaN</td>\n",
       "      <td>NaN</td>\n",
       "      <td>NaN</td>\n",
       "      <td>NaN</td>\n",
       "      <td>NaN</td>\n",
       "      <td>NaN</td>\n",
       "      <td>NaN</td>\n",
       "      <td>NaN</td>\n",
       "      <td>NaN</td>\n",
       "      <td>NaN</td>\n",
       "    </tr>\n",
       "    <tr>\n",
       "      <th>6603</th>\n",
       "      <td>NaN</td>\n",
       "      <td>NaN</td>\n",
       "      <td>NaN</td>\n",
       "      <td>NaN</td>\n",
       "      <td>NaN</td>\n",
       "      <td>NaN</td>\n",
       "      <td>NaN</td>\n",
       "      <td>NaN</td>\n",
       "      <td>NaN</td>\n",
       "      <td>NaN</td>\n",
       "      <td>...</td>\n",
       "      <td>NaN</td>\n",
       "      <td>NaN</td>\n",
       "      <td>NaN</td>\n",
       "      <td>NaN</td>\n",
       "      <td>NaN</td>\n",
       "      <td>NaN</td>\n",
       "      <td>NaN</td>\n",
       "      <td>NaN</td>\n",
       "      <td>NaN</td>\n",
       "      <td>NaN</td>\n",
       "    </tr>\n",
       "    <tr>\n",
       "      <th>7480</th>\n",
       "      <td>NaN</td>\n",
       "      <td>NaN</td>\n",
       "      <td>NaN</td>\n",
       "      <td>NaN</td>\n",
       "      <td>NaN</td>\n",
       "      <td>NaN</td>\n",
       "      <td>NaN</td>\n",
       "      <td>NaN</td>\n",
       "      <td>NaN</td>\n",
       "      <td>NaN</td>\n",
       "      <td>...</td>\n",
       "      <td>NaN</td>\n",
       "      <td>NaN</td>\n",
       "      <td>NaN</td>\n",
       "      <td>NaN</td>\n",
       "      <td>NaN</td>\n",
       "      <td>NaN</td>\n",
       "      <td>NaN</td>\n",
       "      <td>NaN</td>\n",
       "      <td>NaN</td>\n",
       "      <td>NaN</td>\n",
       "    </tr>\n",
       "    <tr>\n",
       "      <th>7487</th>\n",
       "      <td>NaN</td>\n",
       "      <td>NaN</td>\n",
       "      <td>NaN</td>\n",
       "      <td>NaN</td>\n",
       "      <td>NaN</td>\n",
       "      <td>NaN</td>\n",
       "      <td>NaN</td>\n",
       "      <td>NaN</td>\n",
       "      <td>NaN</td>\n",
       "      <td>NaN</td>\n",
       "      <td>...</td>\n",
       "      <td>NaN</td>\n",
       "      <td>NaN</td>\n",
       "      <td>NaN</td>\n",
       "      <td>NaN</td>\n",
       "      <td>NaN</td>\n",
       "      <td>NaN</td>\n",
       "      <td>NaN</td>\n",
       "      <td>NaN</td>\n",
       "      <td>NaN</td>\n",
       "      <td>NaN</td>\n",
       "    </tr>\n",
       "    <tr>\n",
       "      <th>7902</th>\n",
       "      <td>NaN</td>\n",
       "      <td>NaN</td>\n",
       "      <td>NaN</td>\n",
       "      <td>NaN</td>\n",
       "      <td>NaN</td>\n",
       "      <td>NaN</td>\n",
       "      <td>NaN</td>\n",
       "      <td>NaN</td>\n",
       "      <td>NaN</td>\n",
       "      <td>NaN</td>\n",
       "      <td>...</td>\n",
       "      <td>NaN</td>\n",
       "      <td>NaN</td>\n",
       "      <td>NaN</td>\n",
       "      <td>NaN</td>\n",
       "      <td>NaN</td>\n",
       "      <td>NaN</td>\n",
       "      <td>NaN</td>\n",
       "      <td>NaN</td>\n",
       "      <td>NaN</td>\n",
       "      <td>NaN</td>\n",
       "    </tr>\n",
       "    <tr>\n",
       "      <th>8029</th>\n",
       "      <td>NaN</td>\n",
       "      <td>NaN</td>\n",
       "      <td>NaN</td>\n",
       "      <td>NaN</td>\n",
       "      <td>NaN</td>\n",
       "      <td>NaN</td>\n",
       "      <td>NaN</td>\n",
       "      <td>NaN</td>\n",
       "      <td>NaN</td>\n",
       "      <td>NaN</td>\n",
       "      <td>...</td>\n",
       "      <td>NaN</td>\n",
       "      <td>NaN</td>\n",
       "      <td>NaN</td>\n",
       "      <td>NaN</td>\n",
       "      <td>NaN</td>\n",
       "      <td>NaN</td>\n",
       "      <td>NaN</td>\n",
       "      <td>NaN</td>\n",
       "      <td>NaN</td>\n",
       "      <td>NaN</td>\n",
       "    </tr>\n",
       "  </tbody>\n",
       "</table>\n",
       "<p>10 rows × 23 columns</p>\n",
       "</div>"
      ],
      "text/plain": [
       "     order_id order_date ship_date ship_mode customer_id sales_rep  \\\n",
       "147       NaN        NaN       NaN       NaN         NaN       NaN   \n",
       "224       NaN        NaN       NaN       NaN         NaN       NaN   \n",
       "1185      NaN        NaN       NaN       NaN         NaN       NaN   \n",
       "3973      NaN        NaN       NaN       NaN         NaN       NaN   \n",
       "5321      NaN        NaN       NaN       NaN         NaN       NaN   \n",
       "6603      NaN        NaN       NaN       NaN         NaN       NaN   \n",
       "7480      NaN        NaN       NaN       NaN         NaN       NaN   \n",
       "7487      NaN        NaN       NaN       NaN         NaN       NaN   \n",
       "7902      NaN        NaN       NaN       NaN         NaN       NaN   \n",
       "8029      NaN        NaN       NaN       NaN         NaN       NaN   \n",
       "\n",
       "     location_id product_id  sales  quantity  ...  segment  product_name  \\\n",
       "147          NaN        NaN    NaN       NaN  ...      NaN           NaN   \n",
       "224          NaN        NaN    NaN       NaN  ...      NaN           NaN   \n",
       "1185         NaN        NaN    NaN       NaN  ...      NaN           NaN   \n",
       "3973         NaN        NaN    NaN       NaN  ...      NaN           NaN   \n",
       "5321         NaN        NaN    NaN       NaN  ...      NaN           NaN   \n",
       "6603         NaN        NaN    NaN       NaN  ...      NaN           NaN   \n",
       "7480         NaN        NaN    NaN       NaN  ...      NaN           NaN   \n",
       "7487         NaN        NaN    NaN       NaN  ...      NaN           NaN   \n",
       "7902         NaN        NaN    NaN       NaN  ...      NaN           NaN   \n",
       "8029         NaN        NaN    NaN       NaN  ...      NaN           NaN   \n",
       "\n",
       "     category sub_category sales_team sales_team_manager city state  \\\n",
       "147       NaN          NaN        NaN                NaN  NaN   NaN   \n",
       "224       NaN          NaN        NaN                NaN  NaN   NaN   \n",
       "1185      NaN          NaN        NaN                NaN  NaN   NaN   \n",
       "3973      NaN          NaN        NaN                NaN  NaN   NaN   \n",
       "5321      NaN          NaN        NaN                NaN  NaN   NaN   \n",
       "6603      NaN          NaN        NaN                NaN  NaN   NaN   \n",
       "7480      NaN          NaN        NaN                NaN  NaN   NaN   \n",
       "7487      NaN          NaN        NaN                NaN  NaN   NaN   \n",
       "7902      NaN          NaN        NaN                NaN  NaN   NaN   \n",
       "8029      NaN          NaN        NaN                NaN  NaN   NaN   \n",
       "\n",
       "     postal_code region  \n",
       "147          NaN    NaN  \n",
       "224          NaN    NaN  \n",
       "1185         NaN    NaN  \n",
       "3973         NaN    NaN  \n",
       "5321         NaN    NaN  \n",
       "6603         NaN    NaN  \n",
       "7480         NaN    NaN  \n",
       "7487         NaN    NaN  \n",
       "7902         NaN    NaN  \n",
       "8029         NaN    NaN  \n",
       "\n",
       "[10 rows x 23 columns]"
      ]
     },
     "execution_count": 7,
     "metadata": {},
     "output_type": "execute_result"
    }
   ],
   "source": [
    "# Identification des valeurs manquantes 2\n",
    "df[df[\"order_id\"].isnull()]"
   ]
  },
  {
   "cell_type": "markdown",
   "id": "103fec9d",
   "metadata": {},
   "source": [
    "## Nettoyage de données"
   ]
  },
  {
   "cell_type": "markdown",
   "id": "44eba1ba-d6c8-4c25-97f7-b21cb1f3b9ad",
   "metadata": {},
   "source": [
    "### Suppression des lignes avec des valeurs manquantes"
   ]
  },
  {
   "cell_type": "code",
   "execution_count": 8,
   "id": "02a37415",
   "metadata": {},
   "outputs": [],
   "source": [
    "df.dropna(inplace=True)"
   ]
  },
  {
   "cell_type": "markdown",
   "id": "2a20cdc8-2570-45a0-a680-53dca81c0766",
   "metadata": {},
   "source": [
    "### Suppression des doublant"
   ]
  },
  {
   "cell_type": "code",
   "execution_count": 9,
   "id": "87870d9a-7f8b-4f31-b9bb-a7f4096e8350",
   "metadata": {},
   "outputs": [],
   "source": [
    "df.drop_duplicates(inplace=True)"
   ]
  },
  {
   "cell_type": "markdown",
   "id": "022f6fcc-d64e-427f-b142-0a87d3a46a45",
   "metadata": {},
   "source": [
    "### Détecter et traiter les valeurs aberrantes"
   ]
  },
  {
   "cell_type": "code",
   "execution_count": 10,
   "id": "fa7f51b8-f052-4e67-8038-6b467780e223",
   "metadata": {},
   "outputs": [
    {
     "data": {
      "image/png": "[encoded data removed]",
      "text/plain": [
       "<Figure size 640x480 with 1 Axes>"
      ]
     },
     "metadata": {},
     "output_type": "display_data"
    }
   ],
   "source": [
    "# Détecter et traiter les valeurs aberrantes\n",
    "sns.boxplot(x=df[\"sales\"])\n",
    "plt.show()"
   ]
  },
  {
   "cell_type": "code",
   "execution_count": 11,
   "id": "92ea1742-0611-44dd-83fc-d05805cba2bf",
   "metadata": {},
   "outputs": [
    {
     "data": {
      "image/png": "[encoded data removed]",
      "text/plain": [
       "<Figure size 500x500 with 1 Axes>"
      ]
     },
     "metadata": {},
     "output_type": "display_data"
    }
   ],
   "source": [
    "sns.displot(df, x=\"sales\")\n",
    "plt.show()"
   ]
  },
  {
   "cell_type": "code",
   "execution_count": 12,
   "id": "20288eb9-8182-486d-a286-13924dcb081b",
   "metadata": {},
   "outputs": [
    {
     "data": {
      "image/png": "[encoded data removed]",
      "text/plain": [
       "<Figure size 640x480 with 1 Axes>"
      ]
     },
     "metadata": {},
     "output_type": "display_data"
    }
   ],
   "source": [
    "sns.boxplot(x=df[\"quantity\"])\n",
    "plt.show()"
   ]
  },
  {
   "cell_type": "code",
   "execution_count": 13,
   "id": "a42f6260-8229-411a-bcf0-d173b0670592",
   "metadata": {},
   "outputs": [
    {
     "data": {
      "image/png": "[encoded data removed]",
      "text/plain": [
       "<Figure size 500x500 with 1 Axes>"
      ]
     },
     "metadata": {},
     "output_type": "display_data"
    }
   ],
   "source": [
    "sns.displot(df, x=\"quantity\")\n",
    "plt.show()"
   ]
  },
  {
   "cell_type": "code",
   "execution_count": 14,
   "id": "5f083560-e4ba-4379-b91b-a88bff332c46",
   "metadata": {},
   "outputs": [
    {
     "data": {
      "image/png": "[encoded data removed]",
      "text/plain": [
       "<Figure size 640x480 with 1 Axes>"
      ]
     },
     "metadata": {},
     "output_type": "display_data"
    }
   ],
   "source": [
    "sns.boxplot(x=df[\"profit\"])\n",
    "plt.show()"
   ]
  },
  {
   "cell_type": "code",
   "execution_count": 15,
   "id": "21cecf5c-5c44-469f-92ba-6f26525169c5",
   "metadata": {},
   "outputs": [
    {
     "data": {
      "image/png": "[encoded data removed]",
      "text/plain": [
       "<Figure size 500x500 with 1 Axes>"
      ]
     },
     "metadata": {},
     "output_type": "display_data"
    }
   ],
   "source": [
    "sns.displot(df, x=\"profit\")\n",
    "plt.show()"
   ]
  },
  {
   "cell_type": "code",
   "execution_count": 16,
   "id": "0e99dd7c-4435-45ed-9945-c2e9f5febd78",
   "metadata": {},
   "outputs": [
    {
     "data": {
      "image/png": "[encoded data removed]",
      "text/plain": [
       "<Figure size 640x480 with 1 Axes>"
      ]
     },
     "metadata": {},
     "output_type": "display_data"
    }
   ],
   "source": [
    "sns.boxplot(x=df[\"discount\"])\n",
    "plt.show()"
   ]
  },
  {
   "cell_type": "code",
   "execution_count": 17,
   "id": "c1df635a-5847-484e-b2af-24fdbd9beb19",
   "metadata": {},
   "outputs": [
    {
     "data": {
      "image/png": "[encoded data removed]",
      "text/plain": [
       "<Figure size 500x500 with 1 Axes>"
      ]
     },
     "metadata": {},
     "output_type": "display_data"
    }
   ],
   "source": [
    "sns.displot(df, x=\"discount\")\n",
    "plt.show()"
   ]
  },
  {
   "cell_type": "code",
   "execution_count": 18,
   "id": "1279b3bd-addc-4b16-b114-9e8a0e5f735e",
   "metadata": {},
   "outputs": [],
   "source": [
    "df = df[df[\"quantity\"] > 0]"
   ]
  },
  {
   "cell_type": "code",
   "execution_count": 19,
   "id": "f66385b1-2227-4b81-b6b1-b65ad42396f1",
   "metadata": {},
   "outputs": [
    {
     "data": {
      "text/plain": [
       "array(['Consumer', 'Corporate', 'Home Office'], dtype=object)"
      ]
     },
     "execution_count": 19,
     "metadata": {},
     "output_type": "execute_result"
    }
   ],
   "source": [
    "df[\"segment\"].unique()"
   ]
  },
  {
   "cell_type": "markdown",
   "id": "43810207-dabf-46ce-a6d3-33b331c8e2e4",
   "metadata": {},
   "source": [
    "### Uniformiser les formats de données."
   ]
  },
  {
   "cell_type": "code",
   "execution_count": 20,
   "id": "998a4071-4d2f-4ed7-9b9a-52a36c6138eb",
   "metadata": {},
   "outputs": [],
   "source": [
    "df[\"postal_code\"] = df[\"postal_code\"].astype(int).astype(str)"
   ]
  },
  {
   "cell_type": "code",
   "execution_count": 21,
   "id": "1a06b6f2-daee-481c-8aed-2af0085a7a07",
   "metadata": {},
   "outputs": [
    {
     "data": {
      "text/plain": [
       "8764    21/11/2015\n",
       "9464    27/02/2014\n",
       "Name: order_date, dtype: object"
      ]
     },
     "execution_count": 21,
     "metadata": {},
     "output_type": "execute_result"
    }
   ],
   "source": [
    "df['order_date'][df['order_date'].str.contains(\"/\")]"
   ]
  },
  {
   "cell_type": "code",
   "execution_count": 22,
   "id": "7b83e934-c151-4312-bc60-85c13d2f4566",
   "metadata": {},
   "outputs": [
    {
     "data": {
      "text/plain": [
       "9549    20/06/2016\n",
       "Name: ship_date, dtype: object"
      ]
     },
     "execution_count": 22,
     "metadata": {},
     "output_type": "execute_result"
    }
   ],
   "source": [
    "df['ship_date'][df['ship_date'].str.contains(\"/\")]"
   ]
  },
  {
   "cell_type": "code",
   "execution_count": 23,
   "id": "4a64c2bf-1526-44d6-a5b8-2927a454b3bc",
   "metadata": {},
   "outputs": [],
   "source": [
    "df.at[8764, \"order_date\"] = \"2015-11-21\"\n",
    "df.at[9464, \"order_date\"] = \"2014-02-27\"\n",
    "df.at[9549, \"ship_date\"] = \"2016-06-20\""
   ]
  },
  {
   "cell_type": "code",
   "execution_count": 24,
   "id": "5c1bb9ed-3cf4-4ce1-8e4f-388088b86abd",
   "metadata": {},
   "outputs": [],
   "source": [
    "df['order_date'] = pd.to_datetime(df['order_date'])\n",
    "df['ship_date'] = pd.to_datetime(df['ship_date'])"
   ]
  },
  {
   "cell_type": "code",
   "execution_count": null,
   "id": "96cba241a3fabb8",
   "metadata": {},
   "outputs": [],
   "source": [
    "df.to_csv(\"data/preprocessed_df.csv\")"
   ]
  },
  {
   "cell_type": "markdown",
   "id": "48bbdc05-5a61-40ea-b7d8-0f12cbc9cede",
   "metadata": {},
   "source": [
    "### Extract team et sale data"
   ]
  },
  {
   "cell_type": "code",
   "execution_count": 64,
   "id": "ab945d00-4f35-4443-ada6-28fc38e7047d",
   "metadata": {},
   "outputs": [],
   "source": [
    "sales_df = df[[\"sales_rep\", \"sales_team\", \"sales_team_manager\"]]\n",
    "sales_df.drop_duplicates(inplace=True)\n",
    "sales_df = sales_df.sort_values(\"sales_team\")"
   ]
  },
  {
   "cell_type": "code",
   "execution_count": 65,
   "id": "3b248fd9-f366-42d6-83a9-d2fe784ebe91",
   "metadata": {},
   "outputs": [],
   "source": [
    "# Append manager to sale df\n",
    "sales_team_manager_df = df[[\"sales_team_manager\", \"sales_team\"]]\n",
    "sales_team_manager_df.loc[:, \"sales_rep\"] = sales_team_manager_df[\"sales_team_manager\"]\n",
    "sales_team_manager_df.drop_duplicates(inplace=True)\n",
    "sales_df = pd.concat([sales_df, sales_team_manager_df])\n",
    "sales_df.drop_duplicates(inplace=True)\n",
    "sales_df.reset_index(inplace=True, drop=True)"
   ]
  },
  {
   "cell_type": "code",
   "execution_count": 66,
   "id": "33762f9c-fa19-4841-8838-db5ca6b3ed36",
   "metadata": {},
   "outputs": [],
   "source": [
    "# Extraction de données pour la table Team\n",
    "team_df = sales_df[[\"sales_team\", \"sales_team_manager\"]].drop_duplicates()\n",
    "team_df.reset_index(inplace=True, drop=True)"
   ]
  },
  {
   "cell_type": "code",
   "execution_count": 67,
   "id": "d440d15e-b3cd-48a2-a88e-9355e29ffd8c",
   "metadata": {},
   "outputs": [
    {
     "data": {
      "text/html": [
       "<div>\n",
       "<style scoped>\n",
       "    .dataframe tbody tr th:only-of-type {\n",
       "        vertical-align: middle;\n",
       "    }\n",
       "\n",
       "    .dataframe tbody tr th {\n",
       "        vertical-align: top;\n",
       "    }\n",
       "\n",
       "    .dataframe thead th {\n",
       "        text-align: right;\n",
       "    }\n",
       "</style>\n",
       "<table border=\"1\" class=\"dataframe\">\n",
       "  <thead>\n",
       "    <tr style=\"text-align: right;\">\n",
       "      <th></th>\n",
       "      <th>sales_team</th>\n",
       "      <th>sales_team_manager</th>\n",
       "    </tr>\n",
       "  </thead>\n",
       "  <tbody>\n",
       "    <tr>\n",
       "      <th>0</th>\n",
       "      <td>Alfa</td>\n",
       "      <td>James Goodwill</td>\n",
       "    </tr>\n",
       "    <tr>\n",
       "      <th>1</th>\n",
       "      <td>Bravo</td>\n",
       "      <td>Tracy Banks</td>\n",
       "    </tr>\n",
       "    <tr>\n",
       "      <th>2</th>\n",
       "      <td>Charlie</td>\n",
       "      <td>Alisha Cordwell</td>\n",
       "    </tr>\n",
       "    <tr>\n",
       "      <th>3</th>\n",
       "      <td>Delta</td>\n",
       "      <td>Britanny Bold</td>\n",
       "    </tr>\n",
       "    <tr>\n",
       "      <th>4</th>\n",
       "      <td>Organic</td>\n",
       "      <td>Organic</td>\n",
       "    </tr>\n",
       "  </tbody>\n",
       "</table>\n",
       "</div>"
      ],
      "text/plain": [
       "  sales_team sales_team_manager\n",
       "0       Alfa     James Goodwill\n",
       "1      Bravo        Tracy Banks\n",
       "2    Charlie    Alisha Cordwell\n",
       "3      Delta      Britanny Bold\n",
       "4    Organic            Organic"
      ]
     },
     "execution_count": 67,
     "metadata": {},
     "output_type": "execute_result"
    }
   ],
   "source": [
    "team_df"
   ]
  },
  {
   "cell_type": "code",
   "execution_count": 68,
   "id": "a847cc30-b9e2-4ac2-af56-8b0854644468",
   "metadata": {},
   "outputs": [],
   "source": [
    "dict_team_id = dict(zip(team_df['sales_team'], team_df.index.values))\n",
    "sales_df['sales_team'] = sales_df['sales_team'].map(dict_team_id)\n",
    "sales_df.rename(columns={\"sales_team\":\"team_id\", \"sales_rep\": \"name\"}, inplace=True)\n",
    "\n",
    "if \"sales_team_manager\" in sales_df.columns.values:\n",
    "    sales_df.drop(\"sales_team_manager\", axis=1, inplace=True)\n",
    "\n",
    "# sales_df.to_csv(\"data/sales_df.csv\")\n",
    "team_df[\"sales_team_manager\"] = team_df[\"sales_team_manager\"].map(dict(zip(sales_df['name'],sales_df.index.values )))\n",
    "team_df.rename(columns={\"sales_team_manager\": \"manager_id\"},inplace=True)"
   ]
  },
  {
   "cell_type": "code",
   "execution_count": 69,
   "id": "3d8ecfb8-68b0-47cc-a087-7a1b942f573d",
   "metadata": {},
   "outputs": [],
   "source": [
    "# Save sales data in local repository¶\n",
    "team_df.to_csv(\"data/sales_df.csv\")\n",
    "sales_df.to_csv(\"data/sales_df.csv\")"
   ]
  },
  {
   "cell_type": "markdown",
   "id": "8f0be9f3-eb23-4164-b6c5-08121ea0b913",
   "metadata": {},
   "source": [
    "### Extract address data"
   ]
  },
  {
   "cell_type": "code",
   "execution_count": 46,
   "id": "ff0a1772-c0f5-4737-8093-91b97f5210ec",
   "metadata": {},
   "outputs": [],
   "source": [
    "address_df = df[[\"state\", \"postal_code\", \"region\", \"city\", \"location_id\"]]\n",
    "address_df.drop_duplicates(inplace=True)\n",
    "address_df.reset_index(inplace=True, drop=True)\n",
    "address_df_to_save = address_df.copy()\n",
    "address_df_to_save.drop(\"location_id\", axis=1, inplace=True)\n",
    "address_df_to_save.to_csv(\"data/address_df.csv\")"
   ]
  },
  {
   "cell_type": "markdown",
   "id": "608d36c4-fa72-4718-8528-37b073019cb7",
   "metadata": {},
   "source": [
    "### Extract customer data"
   ]
  },
  {
   "cell_type": "code",
   "execution_count": 31,
   "id": "7a2af056-ab85-45c5-8983-436c0b05859b",
   "metadata": {},
   "outputs": [],
   "source": [
    "customer_df = df[[\"customer_id\", \"customer_name\"]]\n",
    "customer_df.drop_duplicates(inplace=True)\n",
    "customer_df.set_index('customer_id', inplace=True)\n",
    "customer_df.to_csv('data/customer_df.csv')"
   ]
  },
  {
   "cell_type": "markdown",
   "id": "690996e2-6cf0-41cd-8330-32c83cd4c5eb",
   "metadata": {},
   "source": [
    "### Extract product data"
   ]
  },
  {
   "cell_type": "code",
   "execution_count": 35,
   "id": "2342d50a-b8cd-41d1-8b53-40a7cf2c613f",
   "metadata": {},
   "outputs": [],
   "source": [
    "category_df = df[[\"sub_category\",\"category\"]]\n",
    "category_df.drop_duplicates(inplace=True)\n",
    "category_df.reset_index(inplace=True, drop=True)"
   ]
  },
  {
   "cell_type": "code",
   "execution_count": 36,
   "id": "c46b9749-c0fd-4087-a5cb-166dd0e8b4d4",
   "metadata": {},
   "outputs": [],
   "source": [
    "category_df.to_csv(\"data/category_df.csv\")"
   ]
  },
  {
   "cell_type": "code",
   "execution_count": 37,
   "id": "be18c24d-eff3-4550-a123-2985a5174ad5",
   "metadata": {},
   "outputs": [],
   "source": [
    "product_df = df[[\"product_id\",\"product_name\", \"sub_category\", \"category\"]]\n",
    "product_df.set_index('product_id', inplace=True)\n",
    "product_df.loc[:, \"category_id\"] = product_df[\"category\"] + \" \" + product_df[\"sub_category\"]\n",
    "category_df.loc[:, \"concat_category\"] = category_df[\"category\"] + \" \" + category_df[\"sub_category\"]\n",
    "product_df.loc[:,\"category_id\"] = product_df[\"category_id\"].map(dict(zip(category_df[\"concat_category\"], category_df.index.values)))\n",
    "if \"sub_category\" in product_df.columns.values and \"category\" in product_df.columns.values:\n",
    "    product_df.drop(columns=[\"sub_category\", \"category\"], axis=1, inplace=True)"
   ]
  },
  {
   "cell_type": "code",
   "execution_count": 41,
   "id": "1eaf44bc-60f9-4269-85e9-337356bb105f",
   "metadata": {},
   "outputs": [],
   "source": [
    "product_df.to_csv(\"data/product_df.csv\")"
   ]
  },
  {
   "cell_type": "markdown",
   "id": "76bf8486-f9b8-4b1c-9a14-104ad121de68",
   "metadata": {},
   "source": [
    "### Extract order data"
   ]
  },
  {
   "cell_type": "code",
   "execution_count": 58,
   "id": "2dea5766-1818-415d-9ec0-4471fb0b894d",
   "metadata": {},
   "outputs": [],
   "source": [
    "order_df = df[['order_id', 'order_date', 'ship_date', 'ship_mode', 'customer_id', 'sales_rep', \n",
    "               'product_id', 'sales', 'quantity', 'discount','profit', 'location_id', 'sub_category']]\n",
    "order_df[\"location_id\"] = order_df[\"location_id\"].map(dict(zip(address_df[\"location_id\"], address_df.index.values)))\n",
    "order_df.rename(columns={\"location_id\": \"address_id\", \"sales_rep\": \"sales_rep_id\"}, inplace=True)\n",
    "order_df[\"sales_rep_id\"] = order_df[\"sales_rep_id\"].map(dict(zip(sales_df.name, sales_df.index.values)))"
   ]
  },
  {
   "cell_type": "code",
   "execution_count": 59,
   "id": "4b862bdc-5805-4aa7-8588-207ea96dd3ad",
   "metadata": {},
   "outputs": [],
   "source": [
    "order_df[\"sub_category\"] = order_df[\"sub_category\"].map(dict(zip(category_df.sub_category, category_df.index.values)))"
   ]
  },
  {
   "cell_type": "code",
   "execution_count": 60,
   "id": "6a3cf50c-44c0-4fb5-8ebd-79393d84d29b",
   "metadata": {},
   "outputs": [],
   "source": [
    "order_df.rename(columns={\"sub_category\": \"category_id\"}, inplace=True)"
   ]
  },
  {
   "cell_type": "code",
   "execution_count": 75,
   "id": "799cd44b-eaed-4448-9cc2-971897a0ed23",
   "metadata": {},
   "outputs": [
    {
     "data": {
      "text/html": [
       "<div>\n",
       "<style scoped>\n",
       "    .dataframe tbody tr th:only-of-type {\n",
       "        vertical-align: middle;\n",
       "    }\n",
       "\n",
       "    .dataframe tbody tr th {\n",
       "        vertical-align: top;\n",
       "    }\n",
       "\n",
       "    .dataframe thead th {\n",
       "        text-align: right;\n",
       "    }\n",
       "</style>\n",
       "<table border=\"1\" class=\"dataframe\">\n",
       "  <thead>\n",
       "    <tr style=\"text-align: right;\">\n",
       "      <th></th>\n",
       "      <th>order_id</th>\n",
       "      <th>order_date</th>\n",
       "      <th>ship_date</th>\n",
       "      <th>ship_mode</th>\n",
       "      <th>customer_id</th>\n",
       "      <th>sales_rep_id</th>\n",
       "      <th>product_id</th>\n",
       "      <th>sales</th>\n",
       "      <th>quantity</th>\n",
       "      <th>discount</th>\n",
       "      <th>profit</th>\n",
       "      <th>address_id</th>\n",
       "      <th>category_id</th>\n",
       "    </tr>\n",
       "  </thead>\n",
       "  <tbody>\n",
       "    <tr>\n",
       "      <th>0</th>\n",
       "      <td>CA-2016-152156</td>\n",
       "      <td>2016-11-08</td>\n",
       "      <td>2016-11-11</td>\n",
       "      <td>Second Class</td>\n",
       "      <td>CG-12520</td>\n",
       "      <td>13</td>\n",
       "      <td>FUR-BO-10001798</td>\n",
       "      <td>261.96</td>\n",
       "      <td>2.0</td>\n",
       "      <td>0.00</td>\n",
       "      <td>41.91</td>\n",
       "      <td>0</td>\n",
       "      <td>0</td>\n",
       "    </tr>\n",
       "    <tr>\n",
       "      <th>1</th>\n",
       "      <td>CA-2016-152156</td>\n",
       "      <td>2016-11-08</td>\n",
       "      <td>2016-11-11</td>\n",
       "      <td>Second Class</td>\n",
       "      <td>CG-12520</td>\n",
       "      <td>13</td>\n",
       "      <td>FUR-CH-10000454</td>\n",
       "      <td>731.94</td>\n",
       "      <td>3.0</td>\n",
       "      <td>0.00</td>\n",
       "      <td>219.58</td>\n",
       "      <td>0</td>\n",
       "      <td>1</td>\n",
       "    </tr>\n",
       "    <tr>\n",
       "      <th>2</th>\n",
       "      <td>CA-2016-138688</td>\n",
       "      <td>2016-06-12</td>\n",
       "      <td>2016-06-16</td>\n",
       "      <td>Second Class</td>\n",
       "      <td>DV-13045</td>\n",
       "      <td>3</td>\n",
       "      <td>OFF-LA-10000240</td>\n",
       "      <td>14.62</td>\n",
       "      <td>2.0</td>\n",
       "      <td>0.00</td>\n",
       "      <td>6.87</td>\n",
       "      <td>1</td>\n",
       "      <td>2</td>\n",
       "    </tr>\n",
       "    <tr>\n",
       "      <th>3</th>\n",
       "      <td>US-2015-108966</td>\n",
       "      <td>2015-10-11</td>\n",
       "      <td>2015-10-18</td>\n",
       "      <td>Standard Class</td>\n",
       "      <td>SO-20335</td>\n",
       "      <td>13</td>\n",
       "      <td>FUR-TA-10000577</td>\n",
       "      <td>957.58</td>\n",
       "      <td>5.0</td>\n",
       "      <td>0.45</td>\n",
       "      <td>-383.03</td>\n",
       "      <td>2</td>\n",
       "      <td>3</td>\n",
       "    </tr>\n",
       "    <tr>\n",
       "      <th>4</th>\n",
       "      <td>US-2015-108966</td>\n",
       "      <td>2015-10-11</td>\n",
       "      <td>2015-10-18</td>\n",
       "      <td>Standard Class</td>\n",
       "      <td>SO-20335</td>\n",
       "      <td>13</td>\n",
       "      <td>OFF-ST-10000760</td>\n",
       "      <td>22.37</td>\n",
       "      <td>2.0</td>\n",
       "      <td>0.20</td>\n",
       "      <td>2.52</td>\n",
       "      <td>2</td>\n",
       "      <td>4</td>\n",
       "    </tr>\n",
       "  </tbody>\n",
       "</table>\n",
       "</div>"
      ],
      "text/plain": [
       "         order_id order_date  ship_date       ship_mode customer_id  \\\n",
       "0  CA-2016-152156 2016-11-08 2016-11-11    Second Class    CG-12520   \n",
       "1  CA-2016-152156 2016-11-08 2016-11-11    Second Class    CG-12520   \n",
       "2  CA-2016-138688 2016-06-12 2016-06-16    Second Class    DV-13045   \n",
       "3  US-2015-108966 2015-10-11 2015-10-18  Standard Class    SO-20335   \n",
       "4  US-2015-108966 2015-10-11 2015-10-18  Standard Class    SO-20335   \n",
       "\n",
       "   sales_rep_id       product_id   sales  quantity  discount  profit  \\\n",
       "0            13  FUR-BO-10001798  261.96       2.0      0.00   41.91   \n",
       "1            13  FUR-CH-10000454  731.94       3.0      0.00  219.58   \n",
       "2             3  OFF-LA-10000240   14.62       2.0      0.00    6.87   \n",
       "3            13  FUR-TA-10000577  957.58       5.0      0.45 -383.03   \n",
       "4            13  OFF-ST-10000760   22.37       2.0      0.20    2.52   \n",
       "\n",
       "   address_id  category_id  \n",
       "0           0            0  \n",
       "1           0            1  \n",
       "2           1            2  \n",
       "3           2            3  \n",
       "4           2            4  "
      ]
     },
     "execution_count": 75,
     "metadata": {},
     "output_type": "execute_result"
    }
   ],
   "source": [
    "order_df.head()"
   ]
  },
  {
   "cell_type": "code",
   "execution_count": 62,
   "id": "b729bbb8-2d70-4611-a7e3-c40b4c514144",
   "metadata": {},
   "outputs": [],
   "source": [
    "order_df.to_csv(\"data/order.csv\")"
   ]
  }
 ],
 "metadata": {
  "kernelspec": {
   "display_name": "Python 3 (ipykernel)",
   "language": "python",
   "name": "python3"
  },
  "language_info": {
   "codemirror_mode": {
    "name": "ipython",
    "version": 3
   },
   "file_extension": ".py",
   "mimetype": "text/x-python",
   "name": "python",
   "nbconvert_exporter": "python",
   "pygments_lexer": "ipython3",
   "version": "3.11.7"
  }
 },
 "nbformat": 4,
 "nbformat_minor": 5
}
